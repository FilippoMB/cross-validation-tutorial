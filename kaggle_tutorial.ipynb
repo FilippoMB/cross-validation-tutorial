{
 "cells": [
  {
   "cell_type": "code",
   "execution_count": null,
   "id": "d53e04e1",
   "metadata": {},
   "outputs": [],
   "source": [
    "import pandas as pd\n",
    "import numpy as np\n",
    "# import seaborn as sns\n",
    "import matplotlib.pylab as plt\n",
    "\n",
    "from sklearn.impute import SimpleImputer\n",
    "from sklearn.preprocessing import StandardScaler, OneHotEncoder\n",
    "from sklearn.compose import ColumnTransformer\n",
    "from sklearn.pipeline import Pipeline\n",
    "\n",
    "from sklearn.svm import SVC\n",
    "from sklearn.ensemble import RandomForestClassifier\n",
    "\n",
    "from sklearn.metrics import accuracy_score, roc_auc_score\n",
    "\n",
    "from sklearn.model_selection import (\n",
    "    train_test_split,\n",
    "    TimeSeriesSplit,\n",
    "    KFold,\n",
    "    StratifiedKFold,\n",
    "    GroupKFold,\n",
    "    StratifiedGroupKFold,\n",
    ")\n",
    "\n",
    "# plt.style.use('seaborn-white')"
   ]
  },
  {
   "cell_type": "markdown",
   "id": "7d384e6e",
   "metadata": {},
   "source": [
    "Stroke Prediction Data. Using information about patients, predict if they are likely to have a stroke.\n",
    "\n",
    "- Gender, marital status, smoking status, age, etc.\n",
    "- Also have a \"Doctor\" feature added to represent the \"group\" within the data."
   ]
  },
  {
   "cell_type": "code",
   "execution_count": null,
   "id": "3f964153",
   "metadata": {},
   "outputs": [
    {
     "name": "stderr",
     "output_type": "stream",
     "text": [
      "/var/folders/l5/j1q2d40112dck_z3sjyfmx9h0000gp/T/ipykernel_88081/1978881712.py:6: FutureWarning: Downcasting behavior in `replace` is deprecated and will be removed in a future version. To retain the old behavior, explicitly call `result.infer_objects(copy=False)`. To opt-in to the future behavior, set `pd.set_option('future.no_silent_downcasting', True)`\n",
      "  data[\"ever_married\"].replace(\"Yes\", True).replace(\"No\", False)\n"
     ]
    }
   ],
   "source": [
    "# def get_prep_data():\n",
    "#     data = pd.read_csv(\n",
    "#         \"healthcare-dataset-stroke-data.csv\"\n",
    "#     )\n",
    "#     data[\"ever_married\"] = (\n",
    "#         data[\"ever_married\"].replace(\"Yes\", True).replace(\"No\", False)\n",
    "#     )\n",
    "#     data[\"gender\"] = data[\"gender\"].astype(\"category\")\n",
    "#     data[\"smoking_status\"] = data[\"smoking_status\"].astype(\"category\")\n",
    "#     data[\"Residence_type\"] = data[\"Residence_type\"].astype(\"category\")\n",
    "#     data[\"work_type\"] = data[\"work_type\"].astype(\"category\")\n",
    "#     data[\"doctor\"] = np.random.randint(0, 8, size=len(data))\n",
    "#     holdout_ids = data.sample(n=500, random_state=529).index\n",
    "\n",
    "#     train = (\n",
    "#         data.loc[~data.index.isin(holdout_ids)]\n",
    "#         .sample(frac=1, random_state=529)\n",
    "#         .sort_values(\"doctor\")\n",
    "#         .reset_index(drop=True)\n",
    "#     )\n",
    "#     holdout = (\n",
    "#         data.loc[data.index.isin(holdout_ids)]\n",
    "#         .sample(frac=1, random_state=529)\n",
    "#         .sort_values(\"doctor\")\n",
    "#         .reset_index(drop=True)\n",
    "#     )\n",
    "\n",
    "#     return train, holdout\n",
    "\n",
    "\n",
    "# train, holdout = get_prep_data()"
   ]
  },
  {
   "cell_type": "code",
   "execution_count": 18,
   "id": "ab39dc28",
   "metadata": {},
   "outputs": [
    {
     "data": {
      "text/html": [
       "<div>\n",
       "<style scoped>\n",
       "    .dataframe tbody tr th:only-of-type {\n",
       "        vertical-align: middle;\n",
       "    }\n",
       "\n",
       "    .dataframe tbody tr th {\n",
       "        vertical-align: top;\n",
       "    }\n",
       "\n",
       "    .dataframe thead th {\n",
       "        text-align: right;\n",
       "    }\n",
       "</style>\n",
       "<table border=\"1\" class=\"dataframe\">\n",
       "  <thead>\n",
       "    <tr style=\"text-align: right;\">\n",
       "      <th></th>\n",
       "      <th>id</th>\n",
       "      <th>gender</th>\n",
       "      <th>age</th>\n",
       "      <th>hypertension</th>\n",
       "      <th>heart_disease</th>\n",
       "      <th>ever_married</th>\n",
       "      <th>work_type</th>\n",
       "      <th>Residence_type</th>\n",
       "      <th>avg_glucose_level</th>\n",
       "      <th>bmi</th>\n",
       "      <th>smoking_status</th>\n",
       "      <th>stroke</th>\n",
       "    </tr>\n",
       "  </thead>\n",
       "  <tbody>\n",
       "    <tr>\n",
       "      <th>0</th>\n",
       "      <td>9046</td>\n",
       "      <td>Male</td>\n",
       "      <td>67.0</td>\n",
       "      <td>0</td>\n",
       "      <td>1</td>\n",
       "      <td>Yes</td>\n",
       "      <td>Private</td>\n",
       "      <td>Urban</td>\n",
       "      <td>228.69</td>\n",
       "      <td>36.6</td>\n",
       "      <td>formerly smoked</td>\n",
       "      <td>1</td>\n",
       "    </tr>\n",
       "    <tr>\n",
       "      <th>1</th>\n",
       "      <td>51676</td>\n",
       "      <td>Female</td>\n",
       "      <td>61.0</td>\n",
       "      <td>0</td>\n",
       "      <td>0</td>\n",
       "      <td>Yes</td>\n",
       "      <td>Self-employed</td>\n",
       "      <td>Rural</td>\n",
       "      <td>202.21</td>\n",
       "      <td>NaN</td>\n",
       "      <td>never smoked</td>\n",
       "      <td>1</td>\n",
       "    </tr>\n",
       "    <tr>\n",
       "      <th>2</th>\n",
       "      <td>31112</td>\n",
       "      <td>Male</td>\n",
       "      <td>80.0</td>\n",
       "      <td>0</td>\n",
       "      <td>1</td>\n",
       "      <td>Yes</td>\n",
       "      <td>Private</td>\n",
       "      <td>Rural</td>\n",
       "      <td>105.92</td>\n",
       "      <td>32.5</td>\n",
       "      <td>never smoked</td>\n",
       "      <td>1</td>\n",
       "    </tr>\n",
       "    <tr>\n",
       "      <th>3</th>\n",
       "      <td>60182</td>\n",
       "      <td>Female</td>\n",
       "      <td>49.0</td>\n",
       "      <td>0</td>\n",
       "      <td>0</td>\n",
       "      <td>Yes</td>\n",
       "      <td>Private</td>\n",
       "      <td>Urban</td>\n",
       "      <td>171.23</td>\n",
       "      <td>34.4</td>\n",
       "      <td>smokes</td>\n",
       "      <td>1</td>\n",
       "    </tr>\n",
       "    <tr>\n",
       "      <th>4</th>\n",
       "      <td>1665</td>\n",
       "      <td>Female</td>\n",
       "      <td>79.0</td>\n",
       "      <td>1</td>\n",
       "      <td>0</td>\n",
       "      <td>Yes</td>\n",
       "      <td>Self-employed</td>\n",
       "      <td>Rural</td>\n",
       "      <td>174.12</td>\n",
       "      <td>24.0</td>\n",
       "      <td>never smoked</td>\n",
       "      <td>1</td>\n",
       "    </tr>\n",
       "  </tbody>\n",
       "</table>\n",
       "</div>"
      ],
      "text/plain": [
       "      id  gender   age  hypertension  heart_disease ever_married  \\\n",
       "0   9046    Male  67.0             0              1          Yes   \n",
       "1  51676  Female  61.0             0              0          Yes   \n",
       "2  31112    Male  80.0             0              1          Yes   \n",
       "3  60182  Female  49.0             0              0          Yes   \n",
       "4   1665  Female  79.0             1              0          Yes   \n",
       "\n",
       "       work_type Residence_type  avg_glucose_level   bmi   smoking_status  \\\n",
       "0        Private          Urban             228.69  36.6  formerly smoked   \n",
       "1  Self-employed          Rural             202.21   NaN     never smoked   \n",
       "2        Private          Rural             105.92  32.5     never smoked   \n",
       "3        Private          Urban             171.23  34.4           smokes   \n",
       "4  Self-employed          Rural             174.12  24.0     never smoked   \n",
       "\n",
       "   stroke  \n",
       "0       1  \n",
       "1       1  \n",
       "2       1  \n",
       "3       1  \n",
       "4       1  "
      ]
     },
     "execution_count": 18,
     "metadata": {},
     "output_type": "execute_result"
    }
   ],
   "source": [
    "# read CSV file\n",
    "data = pd.read_csv(\n",
    "    \"healthcare-dataset-stroke-data.csv\"\n",
    ")\n",
    "data.head()"
   ]
  },
  {
   "cell_type": "code",
   "execution_count": null,
   "id": "5672d5b3",
   "metadata": {},
   "outputs": [],
   "source": [
    "# def get_X_y(train):\n",
    "#     FEATURES = [\n",
    "#         \"gender\",\n",
    "#         \"age\",\n",
    "#         \"hypertension\",\n",
    "#         \"heart_disease\",\n",
    "#         \"ever_married\",\n",
    "#         \"work_type\",\n",
    "#         \"Residence_type\",\n",
    "#         \"avg_glucose_level\",\n",
    "#         \"bmi\",\n",
    "#         \"smoking_status\",\n",
    "#     ]\n",
    "\n",
    "#     GROUPS = \"doctor\"\n",
    "\n",
    "#     TARGET = \"stroke\"\n",
    "\n",
    "#     X = train[FEATURES]\n",
    "#     y = train[TARGET]\n",
    "#     groups = train[GROUPS]\n",
    "#     return X, y, groups"
   ]
  },
  {
   "cell_type": "code",
   "execution_count": null,
   "id": "753b770f",
   "metadata": {},
   "outputs": [],
   "source": [
    "def get_prep_data(csv_path=\"healthcare-dataset-stroke-data.csv\",\n",
    "                  holdout_size=500,\n",
    "                  random_state=529):\n",
    "    # 1) load and basic cleanup\n",
    "    data = pd.read_csv(csv_path)\n",
    "    # parse \"N/A\" in bmi as NaN\n",
    "    data['bmi'] = pd.to_numeric(data['bmi'], errors='coerce')\n",
    "    # map ever_married to 0/1\n",
    "    data['ever_married'] = data['ever_married'].map({'Yes': 1, 'No': 0})\n",
    "    # add a random 'doctor' group\n",
    "    # data['doctor'] = np.random.RandomState(random_state).randint(0, 8, size=len(data))\n",
    "\n",
    "    # 2) split out holdout\n",
    "    holdout_ids = data.sample(n=holdout_size, random_state=random_state).index\n",
    "    train_df = data.drop(holdout_ids).reset_index(drop=True)\n",
    "    holdout_df = data.loc[holdout_ids].reset_index(drop=True)\n",
    "\n",
    "    # 3) separate X/y\n",
    "    target_col = 'stroke'\n",
    "    drop_cols = ['id', target_col]\n",
    "    X_train = train_df.drop(columns=drop_cols)\n",
    "    y_train = train_df[target_col].values\n",
    "    X_hold = holdout_df.drop(columns=drop_cols)\n",
    "    y_hold = holdout_df[target_col].values\n",
    "\n",
    "    # 4) define which columns are numeric vs. categorical\n",
    "    numeric_features = ['age', 'avg_glucose_level', 'bmi', 'hypertension', \n",
    "                        'heart_disease', 'ever_married']\n",
    "    categorical_features = ['gender', 'work_type', 'Residence_type', 'smoking_status']\n",
    "\n",
    "    # 5) build preprocessing pipelines\n",
    "    numeric_pipe = Pipeline([\n",
    "        ('imputer', SimpleImputer(strategy='median')),\n",
    "        ('scaler', StandardScaler())\n",
    "    ])\n",
    "    categorical_pipe = Pipeline([\n",
    "        ('imputer', SimpleImputer(strategy='constant', fill_value='missing')),\n",
    "        ('onehot', OneHotEncoder(handle_unknown='ignore'))\n",
    "    ])\n",
    "    preprocessor = ColumnTransformer([\n",
    "        ('num', numeric_pipe, numeric_features),\n",
    "        ('cat', categorical_pipe, categorical_features),\n",
    "    ], sparse_threshold=0)\n",
    "\n",
    "    # 6) fit on train, transform both\n",
    "    X_train_enc = preprocessor.fit_transform(X_train)\n",
    "    X_hold_enc  = preprocessor.transform(X_hold)\n",
    "\n",
    "    return X_train_enc, y_train, X_hold_enc, y_hold, preprocessor"
   ]
  },
  {
   "cell_type": "code",
   "execution_count": 23,
   "id": "48d68e0c",
   "metadata": {},
   "outputs": [
    {
     "name": "stdout",
     "output_type": "stream",
     "text": [
      "The score on the training set is accuracy: 0.9963 and AUC of 0.9998\n"
     ]
    }
   ],
   "source": [
    "X_train_enc, y_train, X_test_enc, y_test, preprocessor = get_prep_data()\n",
    "# clf = SVC(\n",
    "#     kernel=\"rbf\",\n",
    "#     C=10,\n",
    "#     probability=True,\n",
    "#     random_state=529,\n",
    "#     class_weight=\"balanced\",\n",
    "# )\n",
    "clf = RandomForestClassifier(\n",
    "    n_estimators=100,\n",
    "    max_depth=12,\n",
    "    random_state=529,\n",
    "    class_weight=\"balanced\",\n",
    ")\n",
    "clf.fit(X_train_enc, y_train)\n",
    "\n",
    "# Predict on training set\n",
    "pred = clf.predict(X_train_enc)\n",
    "pred_prob = clf.predict_proba(X_train_enc)[:, 1]\n",
    "\n",
    "acc_score = accuracy_score(y_train, pred)\n",
    "auc_score = roc_auc_score(y_train, pred_prob)\n",
    "\n",
    "print(f'The score on the training set is accuracy: {acc_score:0.4f} and AUC of {auc_score:0.4f}')"
   ]
  },
  {
   "cell_type": "markdown",
   "id": "587b73e6",
   "metadata": {},
   "source": [
    "Model can predict 99% accuracy? Nope!\n",
    "\n",
    "Check the performance on the test set."
   ]
  },
  {
   "cell_type": "code",
   "execution_count": 24,
   "id": "96c247d7",
   "metadata": {},
   "outputs": [
    {
     "name": "stdout",
     "output_type": "stream",
     "text": [
      "The score on the test set is accuracy: 0.9480 and AUC of 0.7324\n"
     ]
    }
   ],
   "source": [
    "# compute performance on test set\n",
    "pred_test = clf.predict(X_test_enc)\n",
    "pred_prob_test = clf.predict_proba(X_test_enc)[:, 1]\n",
    "acc_score_test = accuracy_score(y_test, pred_test)\n",
    "auc_score_test = roc_auc_score(y_test, pred_prob_test)\n",
    "print(f'The score on the test set is accuracy: {acc_score_test:0.4f} and AUC of {auc_score_test:0.4f}')"
   ]
  },
  {
   "cell_type": "code",
   "execution_count": 19,
   "id": "917cb8b1",
   "metadata": {},
   "outputs": [
    {
     "name": "stdout",
     "output_type": "stream",
     "text": [
      "Our baseline on the holdout set is 0.9480 and AUC is 0.5000\n"
     ]
    }
   ],
   "source": [
    "acc_score = accuracy_score(y_test, np.zeros_like(y_test))\n",
    "auc_score = roc_auc_score(y_test, np.zeros_like(y_test))\n",
    "print(\n",
    "    f\"Our baseline on the holdout set is {acc_score:0.4f} and AUC is {auc_score:0.4f}\"\n",
    ")"
   ]
  },
  {
   "cell_type": "code",
   "execution_count": 46,
   "id": "de4a38e6",
   "metadata": {},
   "outputs": [],
   "source": [
    "def plot_cv_indices(cv, X, y, group, ax, n_splits, lw=10, cmap_cv=plt.cm.coolwarm, cmap_data=plt.cm.Paired):    \n",
    "    \"\"\"Create a sample plot for indices of a cross-validation object.\"\"\"\n",
    "    use_groups = \"Group\" in type(cv).__name__\n",
    "    groups = group if use_groups else None\n",
    "    # Generate the training/testing visualizations for each CV split\n",
    "    for ii, (tr, tt) in enumerate(cv.split(X=X, y=y, groups=groups)):\n",
    "        # Fill in indices with the training/test groups\n",
    "        indices = np.array([np.nan] * len(X))\n",
    "        indices[tt] = 1\n",
    "        indices[tr] = 0\n",
    "\n",
    "        # Visualize the results\n",
    "        ax.scatter(\n",
    "            range(len(indices)),\n",
    "            [ii + 0.5] * len(indices),\n",
    "            c=indices,\n",
    "            marker=\"_\",\n",
    "            lw=lw,\n",
    "            cmap=cmap_cv,\n",
    "            vmin=-0.2,\n",
    "            vmax=1.2,\n",
    "        )\n",
    "\n",
    "    # Plot the data classes and groups at the end\n",
    "    ax.scatter(\n",
    "        range(len(X)), [ii + 1.5] * len(X), c=y, marker=\"_\", lw=lw, cmap=cmap_data\n",
    "    )\n",
    "\n",
    "    ax.scatter(\n",
    "        range(len(X)), [ii + 2.5] * len(X), c=group, marker=\"_\", lw=lw, cmap=cmap_data\n",
    "    )\n",
    "\n",
    "    # Formatting\n",
    "    yticklabels = list(range(n_splits)) + [\"class\", \"group\"]\n",
    "    ax.set(\n",
    "        yticks=np.arange(n_splits + 2) + 0.5,\n",
    "        yticklabels=yticklabels,\n",
    "        xlabel=\"Sample index\",\n",
    "        ylabel=\"CV iteration\",\n",
    "        ylim=[n_splits + 2.2, -0.2],\n",
    "    )\n",
    "    ax.set_title(\"{}\".format(type(cv).__name__), fontsize=15)\n",
    "    return ax"
   ]
  },
  {
   "cell_type": "code",
   "execution_count": 47,
   "id": "b4b2b6d8",
   "metadata": {},
   "outputs": [
    {
     "data": {
      "text/plain": [
       "<Axes: title={'center': 'StratifiedKFold'}, xlabel='Sample index', ylabel='CV iteration'>"
      ]
     },
     "execution_count": 47,
     "metadata": {},
     "output_type": "execute_result"
    },
    {
     "data": {
      "image/png": "[encoded data removed]",
      "text/plain": [
       "<Figure size 1000x500 with 1 Axes>"
      ]
     },
     "metadata": {},
     "output_type": "display_data"
    }
   ],
   "source": [
    "# cv = KFold(n_splits=5, shuffle=False)\n",
    "cv = StratifiedKFold(n_splits=10, shuffle=False)\n",
    "fig, ax = plt.subplots(1, 1, figsize=(10, 5))\n",
    "plot_cv_indices(cv, X_train_enc, y_train, X_train_enc[:, 6], ax, n_splits=10)"
   ]
  },
  {
   "cell_type": "code",
   "execution_count": 40,
   "id": "881d8169",
   "metadata": {},
   "outputs": [
    {
     "data": {
      "text/plain": [
       "(array([4387.,  223.]),\n",
       " array([0. , 0.5, 1. ]),\n",
       " <BarContainer object of 2 artists>)"
      ]
     },
     "execution_count": 40,
     "metadata": {},
     "output_type": "execute_result"
    },
    {
     "data": {
      "image/png": "[encoded data removed]",
      "text/plain": [
       "<Figure size 640x480 with 1 Axes>"
      ]
     },
     "metadata": {},
     "output_type": "display_data"
    }
   ],
   "source": [
    "plt.hist(y_train, bins=2)"
   ]
  },
  {
   "cell_type": "code",
   "execution_count": 38,
   "id": "3ced5fb3",
   "metadata": {},
   "outputs": [
    {
     "data": {
      "image/png": "[encoded data removed]",
      "text/plain": [
       "<Figure size 640x480 with 1 Axes>"
      ]
     },
     "metadata": {},
     "output_type": "display_data"
    }
   ],
   "source": [
    "def visualize_groups(classes, groups, name, cmap_data=plt.cm.Paired):\n",
    "    # Visualize dataset groups\n",
    "    fig, ax = plt.subplots()\n",
    "    ax.scatter(\n",
    "        range(len(groups)),\n",
    "        [0.5] * len(groups),\n",
    "        c=groups,\n",
    "        marker=\"_\",\n",
    "        lw=50,\n",
    "        cmap=cmap_data,\n",
    "    )\n",
    "    ax.scatter(\n",
    "        range(len(groups)),\n",
    "        [3.5] * len(groups),\n",
    "        c=classes,\n",
    "        marker=\"_\",\n",
    "        lw=50,\n",
    "        cmap=cmap_data,\n",
    "    )\n",
    "    ax.set(\n",
    "        ylim=[-1, 5],\n",
    "        yticks=[0.5, 3.5],\n",
    "        yticklabels=[\"Data\\ngroup\", \"Data\\nclass\"],\n",
    "        xlabel=\"Sample index\",\n",
    "    )\n",
    "    \n",
    "    \n",
    "visualize_groups(y_train, X_train_enc[:,6], \"no groups\")"
   ]
  }
 ],
 "metadata": {
  "kernelspec": {
   "display_name": "tgp",
   "language": "python",
   "name": "python3"
  },
  "language_info": {
   "codemirror_mode": {
    "name": "ipython",
    "version": 3
   },
   "file_extension": ".py",
   "mimetype": "text/x-python",
   "name": "python",
   "nbconvert_exporter": "python",
   "pygments_lexer": "ipython3",
   "version": "3.12.9"
  }
 },
 "nbformat": 4,
 "nbformat_minor": 5
}
